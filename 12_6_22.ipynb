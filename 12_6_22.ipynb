{
 "cells": [
  {
   "cell_type": "code",
   "execution_count": 45,
   "id": "98b65464",
   "metadata": {},
   "outputs": [],
   "source": [
    "#install the necessary librarires\n",
    "import pandas as pd\n",
    "import numpy as np\n",
    "import matplotlib.pyplot as plt\n",
    "import seaborn as sns"
   ]
  },
  {
   "cell_type": "code",
   "execution_count": 46,
   "id": "5b773f69",
   "metadata": {},
   "outputs": [],
   "source": [
    "#load the dataset\n",
    "data=pd.read_excel(\"house.xlsx\")"
   ]
  },
  {
   "cell_type": "code",
   "execution_count": 47,
   "id": "ef708f1b",
   "metadata": {},
   "outputs": [
    {
     "data": {
      "text/plain": [
       "(17728, 41)"
      ]
     },
     "execution_count": 47,
     "metadata": {},
     "output_type": "execute_result"
    }
   ],
   "source": [
    "#shape of the dataset\n",
    "data.shape"
   ]
  },
  {
   "cell_type": "code",
   "execution_count": 48,
   "id": "81e2e307",
   "metadata": {},
   "outputs": [
    {
     "data": {
      "text/html": [
       "<div>\n",
       "<style scoped>\n",
       "    .dataframe tbody tr th:only-of-type {\n",
       "        vertical-align: middle;\n",
       "    }\n",
       "\n",
       "    .dataframe tbody tr th {\n",
       "        vertical-align: top;\n",
       "    }\n",
       "\n",
       "    .dataframe thead th {\n",
       "        text-align: right;\n",
       "    }\n",
       "</style>\n",
       "<table border=\"1\" class=\"dataframe\">\n",
       "  <thead>\n",
       "    <tr style=\"text-align: right;\">\n",
       "      <th></th>\n",
       "      <th>City</th>\n",
       "      <th>Price</th>\n",
       "      <th>Area</th>\n",
       "      <th>Location</th>\n",
       "      <th>No. of Bedrooms</th>\n",
       "      <th>Resale</th>\n",
       "      <th>MaintenanceStaff</th>\n",
       "      <th>Gymnasium</th>\n",
       "      <th>SwimmingPool</th>\n",
       "      <th>LandscapedGardens</th>\n",
       "      <th>...</th>\n",
       "      <th>LiftAvailable</th>\n",
       "      <th>BED</th>\n",
       "      <th>VaastuCompliant</th>\n",
       "      <th>Microwave</th>\n",
       "      <th>GolfCourse</th>\n",
       "      <th>TV</th>\n",
       "      <th>DiningTable</th>\n",
       "      <th>Sofa</th>\n",
       "      <th>Wardrobe</th>\n",
       "      <th>Refrigerator</th>\n",
       "    </tr>\n",
       "  </thead>\n",
       "  <tbody>\n",
       "    <tr>\n",
       "      <th>0</th>\n",
       "      <td>Banglore</td>\n",
       "      <td>30000000</td>\n",
       "      <td>3340</td>\n",
       "      <td>JP Nagar Phase 1</td>\n",
       "      <td>4</td>\n",
       "      <td>0</td>\n",
       "      <td>1</td>\n",
       "      <td>1</td>\n",
       "      <td>1</td>\n",
       "      <td>1</td>\n",
       "      <td>...</td>\n",
       "      <td>1</td>\n",
       "      <td>0</td>\n",
       "      <td>0</td>\n",
       "      <td>0</td>\n",
       "      <td>0</td>\n",
       "      <td>0</td>\n",
       "      <td>0</td>\n",
       "      <td>0</td>\n",
       "      <td>0</td>\n",
       "      <td>0</td>\n",
       "    </tr>\n",
       "    <tr>\n",
       "      <th>1</th>\n",
       "      <td>Banglore</td>\n",
       "      <td>7888000</td>\n",
       "      <td>1045</td>\n",
       "      <td>Dasarahalli on Tumkur Road</td>\n",
       "      <td>2</td>\n",
       "      <td>0</td>\n",
       "      <td>0</td>\n",
       "      <td>1</td>\n",
       "      <td>1</td>\n",
       "      <td>1</td>\n",
       "      <td>...</td>\n",
       "      <td>1</td>\n",
       "      <td>0</td>\n",
       "      <td>1</td>\n",
       "      <td>0</td>\n",
       "      <td>0</td>\n",
       "      <td>0</td>\n",
       "      <td>0</td>\n",
       "      <td>0</td>\n",
       "      <td>0</td>\n",
       "      <td>0</td>\n",
       "    </tr>\n",
       "    <tr>\n",
       "      <th>2</th>\n",
       "      <td>Banglore</td>\n",
       "      <td>4866000</td>\n",
       "      <td>1179</td>\n",
       "      <td>Kannur on Thanisandra Main Road</td>\n",
       "      <td>2</td>\n",
       "      <td>0</td>\n",
       "      <td>0</td>\n",
       "      <td>1</td>\n",
       "      <td>1</td>\n",
       "      <td>1</td>\n",
       "      <td>...</td>\n",
       "      <td>1</td>\n",
       "      <td>0</td>\n",
       "      <td>0</td>\n",
       "      <td>0</td>\n",
       "      <td>0</td>\n",
       "      <td>0</td>\n",
       "      <td>0</td>\n",
       "      <td>0</td>\n",
       "      <td>0</td>\n",
       "      <td>0</td>\n",
       "    </tr>\n",
       "    <tr>\n",
       "      <th>3</th>\n",
       "      <td>Banglore</td>\n",
       "      <td>8358000</td>\n",
       "      <td>1675</td>\n",
       "      <td>Doddanekundi</td>\n",
       "      <td>3</td>\n",
       "      <td>0</td>\n",
       "      <td>0</td>\n",
       "      <td>0</td>\n",
       "      <td>0</td>\n",
       "      <td>0</td>\n",
       "      <td>...</td>\n",
       "      <td>1</td>\n",
       "      <td>0</td>\n",
       "      <td>0</td>\n",
       "      <td>0</td>\n",
       "      <td>0</td>\n",
       "      <td>0</td>\n",
       "      <td>0</td>\n",
       "      <td>0</td>\n",
       "      <td>0</td>\n",
       "      <td>0</td>\n",
       "    </tr>\n",
       "    <tr>\n",
       "      <th>4</th>\n",
       "      <td>Banglore</td>\n",
       "      <td>6845000</td>\n",
       "      <td>1670</td>\n",
       "      <td>Kengeri</td>\n",
       "      <td>3</td>\n",
       "      <td>0</td>\n",
       "      <td>1</td>\n",
       "      <td>1</td>\n",
       "      <td>1</td>\n",
       "      <td>1</td>\n",
       "      <td>...</td>\n",
       "      <td>1</td>\n",
       "      <td>0</td>\n",
       "      <td>0</td>\n",
       "      <td>0</td>\n",
       "      <td>0</td>\n",
       "      <td>0</td>\n",
       "      <td>0</td>\n",
       "      <td>0</td>\n",
       "      <td>0</td>\n",
       "      <td>0</td>\n",
       "    </tr>\n",
       "  </tbody>\n",
       "</table>\n",
       "<p>5 rows × 41 columns</p>\n",
       "</div>"
      ],
      "text/plain": [
       "       City     Price  Area                         Location  No. of Bedrooms  \\\n",
       "0  Banglore  30000000  3340                 JP Nagar Phase 1                4   \n",
       "1  Banglore   7888000  1045       Dasarahalli on Tumkur Road                2   \n",
       "2  Banglore   4866000  1179  Kannur on Thanisandra Main Road                2   \n",
       "3  Banglore   8358000  1675                     Doddanekundi                3   \n",
       "4  Banglore   6845000  1670                          Kengeri                3   \n",
       "\n",
       "   Resale  MaintenanceStaff  Gymnasium  SwimmingPool  LandscapedGardens  ...  \\\n",
       "0       0                 1          1             1                  1  ...   \n",
       "1       0                 0          1             1                  1  ...   \n",
       "2       0                 0          1             1                  1  ...   \n",
       "3       0                 0          0             0                  0  ...   \n",
       "4       0                 1          1             1                  1  ...   \n",
       "\n",
       "   LiftAvailable  BED  VaastuCompliant  Microwave  GolfCourse  TV  \\\n",
       "0              1    0                0          0           0   0   \n",
       "1              1    0                1          0           0   0   \n",
       "2              1    0                0          0           0   0   \n",
       "3              1    0                0          0           0   0   \n",
       "4              1    0                0          0           0   0   \n",
       "\n",
       "   DiningTable  Sofa  Wardrobe  Refrigerator  \n",
       "0            0     0         0             0  \n",
       "1            0     0         0             0  \n",
       "2            0     0         0             0  \n",
       "3            0     0         0             0  \n",
       "4            0     0         0             0  \n",
       "\n",
       "[5 rows x 41 columns]"
      ]
     },
     "execution_count": 48,
     "metadata": {},
     "output_type": "execute_result"
    }
   ],
   "source": [
    "#printing starting five lines of dataset\n",
    "data.head()"
   ]
  },
  {
   "cell_type": "code",
   "execution_count": 49,
   "id": "b7be0180",
   "metadata": {},
   "outputs": [
    {
     "name": "stdout",
     "output_type": "stream",
     "text": [
      "<class 'pandas.core.frame.DataFrame'>\n",
      "RangeIndex: 17728 entries, 0 to 17727\n",
      "Data columns (total 41 columns):\n",
      " #   Column               Non-Null Count  Dtype \n",
      "---  ------               --------------  ----- \n",
      " 0   City                 17728 non-null  object\n",
      " 1   Price                17728 non-null  int64 \n",
      " 2   Area                 17728 non-null  int64 \n",
      " 3   Location             17728 non-null  object\n",
      " 4   No. of Bedrooms      17728 non-null  int64 \n",
      " 5   Resale               17728 non-null  int64 \n",
      " 6   MaintenanceStaff     17728 non-null  int64 \n",
      " 7   Gymnasium            17728 non-null  int64 \n",
      " 8   SwimmingPool         17728 non-null  int64 \n",
      " 9   LandscapedGardens    17728 non-null  int64 \n",
      " 10  JoggingTrack         17728 non-null  int64 \n",
      " 11  RainWaterHarvesting  17728 non-null  int64 \n",
      " 12  IndoorGames          17728 non-null  int64 \n",
      " 13  ShoppingMall         17728 non-null  int64 \n",
      " 14  Intercom             17728 non-null  int64 \n",
      " 15  SportsFacility       17728 non-null  int64 \n",
      " 16  ATM                  17728 non-null  int64 \n",
      " 17  ClubHouse            17728 non-null  int64 \n",
      " 18  School               17728 non-null  int64 \n",
      " 19  24X7Security         17728 non-null  int64 \n",
      " 20  PowerBackup          17728 non-null  int64 \n",
      " 21  CarParking           17728 non-null  int64 \n",
      " 22  StaffQuarter         17728 non-null  int64 \n",
      " 23  Cafeteria            17728 non-null  int64 \n",
      " 24  MultipurposeRoom     17728 non-null  int64 \n",
      " 25  Hospital             17728 non-null  int64 \n",
      " 26  WashingMachine       17728 non-null  int64 \n",
      " 27  Gasconnection        17728 non-null  int64 \n",
      " 28  AC                   17728 non-null  int64 \n",
      " 29  Wifi                 17728 non-null  int64 \n",
      " 30  Children'splayarea   17728 non-null  int64 \n",
      " 31  LiftAvailable        17728 non-null  int64 \n",
      " 32  BED                  17728 non-null  int64 \n",
      " 33  VaastuCompliant      17728 non-null  int64 \n",
      " 34  Microwave            17728 non-null  int64 \n",
      " 35  GolfCourse           17728 non-null  int64 \n",
      " 36  TV                   17728 non-null  int64 \n",
      " 37  DiningTable          17728 non-null  int64 \n",
      " 38  Sofa                 17728 non-null  int64 \n",
      " 39  Wardrobe             17728 non-null  int64 \n",
      " 40  Refrigerator         17728 non-null  int64 \n",
      "dtypes: int64(39), object(2)\n",
      "memory usage: 5.5+ MB\n"
     ]
    }
   ],
   "source": [
    "data.info()"
   ]
  },
  {
   "cell_type": "code",
   "execution_count": 50,
   "id": "74e23a2a",
   "metadata": {},
   "outputs": [
    {
     "data": {
      "text/plain": [
       "array(['Banglore', 'Chennai', 'Kolkata'], dtype=object)"
      ]
     },
     "execution_count": 50,
     "metadata": {},
     "output_type": "execute_result"
    }
   ],
   "source": [
    "data['City'].unique()"
   ]
  },
  {
   "cell_type": "code",
   "execution_count": 51,
   "id": "6a53a426",
   "metadata": {},
   "outputs": [
    {
     "data": {
      "text/plain": [
       "<AxesSubplot:xlabel='City', ylabel='count'>"
      ]
     },
     "execution_count": 51,
     "metadata": {},
     "output_type": "execute_result"
    },
    {
     "data": {
      "image/png": "[encoded data removed]",
      "text/plain": [
       "<Figure size 1080x432 with 1 Axes>"
      ]
     },
     "metadata": {
      "needs_background": "light"
     },
     "output_type": "display_data"
    }
   ],
   "source": [
    "plt.figure(figsize=(15,6))\n",
    "sns.countplot(x='City', data=data)"
   ]
  },
  {
   "cell_type": "code",
   "execution_count": 52,
   "id": "ae3211d7",
   "metadata": {},
   "outputs": [
    {
     "data": {
      "text/plain": [
       "City                   0\n",
       "Price                  0\n",
       "Area                   0\n",
       "Location               0\n",
       "No. of Bedrooms        0\n",
       "Resale                 0\n",
       "MaintenanceStaff       0\n",
       "Gymnasium              0\n",
       "SwimmingPool           0\n",
       "LandscapedGardens      0\n",
       "JoggingTrack           0\n",
       "RainWaterHarvesting    0\n",
       "IndoorGames            0\n",
       "ShoppingMall           0\n",
       "Intercom               0\n",
       "SportsFacility         0\n",
       "ATM                    0\n",
       "ClubHouse              0\n",
       "School                 0\n",
       "24X7Security           0\n",
       "PowerBackup            0\n",
       "CarParking             0\n",
       "StaffQuarter           0\n",
       "Cafeteria              0\n",
       "MultipurposeRoom       0\n",
       "Hospital               0\n",
       "WashingMachine         0\n",
       "Gasconnection          0\n",
       "AC                     0\n",
       "Wifi                   0\n",
       "Children'splayarea     0\n",
       "LiftAvailable          0\n",
       "BED                    0\n",
       "VaastuCompliant        0\n",
       "Microwave              0\n",
       "GolfCourse             0\n",
       "TV                     0\n",
       "DiningTable            0\n",
       "Sofa                   0\n",
       "Wardrobe               0\n",
       "Refrigerator           0\n",
       "dtype: int64"
      ]
     },
     "execution_count": 52,
     "metadata": {},
     "output_type": "execute_result"
    }
   ],
   "source": [
    "data.isnull().sum()"
   ]
  },
  {
   "cell_type": "code",
   "execution_count": 53,
   "id": "24cebac8",
   "metadata": {},
   "outputs": [
    {
     "data": {
      "image/png": "[encoded data removed]",
      "text/plain": [
       "<Figure size 1080x504 with 1 Axes>"
      ]
     },
     "metadata": {
      "needs_background": "light"
     },
     "output_type": "display_data"
    }
   ],
   "source": [
    "plt.figure(figsize=(15,7))\n",
    "plt.barh(data.isnull().sum().index,width=data.isnull().sum().values)\n",
    "plt.xlabel('total null values')\n",
    "plt.show()"
   ]
  },
  {
   "cell_type": "code",
   "execution_count": 54,
   "id": "0e791f3f",
   "metadata": {},
   "outputs": [
    {
     "data": {
      "text/plain": [
       "793"
      ]
     },
     "execution_count": 54,
     "metadata": {},
     "output_type": "execute_result"
    }
   ],
   "source": [
    "len(data.Location.unique())"
   ]
  },
  {
   "cell_type": "code",
   "execution_count": 55,
   "id": "33831a76",
   "metadata": {},
   "outputs": [
    {
     "data": {
      "text/plain": [
       "Location\n",
       "New Town                711\n",
       "Rajarhat                405\n",
       "Tangra                  369\n",
       "Dum Dum                 316\n",
       "Garia                   307\n",
       "                       ... \n",
       "Airport Area              1\n",
       "Jatragachi Flyover        1\n",
       "Murugesh Palya            1\n",
       "Jalahalli West            1\n",
       "200 Feet Radial Road      1\n",
       "Length: 793, dtype: int64"
      ]
     },
     "execution_count": 55,
     "metadata": {},
     "output_type": "execute_result"
    }
   ],
   "source": [
    "location_count = data.groupby('Location').size().sort_values(ascending=False)\n",
    "location_count"
   ]
  },
  {
   "cell_type": "code",
   "execution_count": 56,
   "id": "7d5a6f7f",
   "metadata": {},
   "outputs": [
    {
     "data": {
      "text/plain": [
       "516"
      ]
     },
     "execution_count": 56,
     "metadata": {},
     "output_type": "execute_result"
    }
   ],
   "source": [
    "len(location_count[location_count<=10])"
   ]
  },
  {
   "cell_type": "code",
   "execution_count": 57,
   "id": "8606d839",
   "metadata": {},
   "outputs": [],
   "source": [
    "location_less_10 = location_count[location_count<=10]"
   ]
  },
  {
   "cell_type": "code",
   "execution_count": 58,
   "id": "1a1a790b",
   "metadata": {},
   "outputs": [],
   "source": [
    "#if the location have less than 10 or 10 houses than that location are known as other location\n",
    "data.Location = data.Location.apply(lambda x: 'other' if x in location_less_10 else x)"
   ]
  },
  {
   "cell_type": "code",
   "execution_count": 59,
   "id": "6238b5cd",
   "metadata": {},
   "outputs": [
    {
     "data": {
      "text/plain": [
       "278"
      ]
     },
     "execution_count": 59,
     "metadata": {},
     "output_type": "execute_result"
    }
   ],
   "source": [
    "len(data.Location.unique())"
   ]
  },
  {
   "cell_type": "code",
   "execution_count": 60,
   "id": "6519eac2",
   "metadata": {},
   "outputs": [
    {
     "data": {
      "text/plain": [
       "array([4, 2, 3, 1, 5, 6, 7, 9], dtype=int64)"
      ]
     },
     "execution_count": 60,
     "metadata": {},
     "output_type": "execute_result"
    }
   ],
   "source": [
    "data['bhk'] = data['No. of Bedrooms']\n",
    "data.bhk.unique()"
   ]
  },
  {
   "cell_type": "code",
   "execution_count": 61,
   "id": "d188d6da",
   "metadata": {},
   "outputs": [
    {
     "data": {
      "text/html": [
       "<div>\n",
       "<style scoped>\n",
       "    .dataframe tbody tr th:only-of-type {\n",
       "        vertical-align: middle;\n",
       "    }\n",
       "\n",
       "    .dataframe tbody tr th {\n",
       "        vertical-align: top;\n",
       "    }\n",
       "\n",
       "    .dataframe thead th {\n",
       "        text-align: right;\n",
       "    }\n",
       "</style>\n",
       "<table border=\"1\" class=\"dataframe\">\n",
       "  <thead>\n",
       "    <tr style=\"text-align: right;\">\n",
       "      <th></th>\n",
       "      <th>City</th>\n",
       "      <th>Price</th>\n",
       "      <th>Area</th>\n",
       "      <th>Location</th>\n",
       "      <th>No. of Bedrooms</th>\n",
       "      <th>Resale</th>\n",
       "      <th>MaintenanceStaff</th>\n",
       "      <th>Gymnasium</th>\n",
       "      <th>SwimmingPool</th>\n",
       "      <th>LandscapedGardens</th>\n",
       "      <th>...</th>\n",
       "      <th>BED</th>\n",
       "      <th>VaastuCompliant</th>\n",
       "      <th>Microwave</th>\n",
       "      <th>GolfCourse</th>\n",
       "      <th>TV</th>\n",
       "      <th>DiningTable</th>\n",
       "      <th>Sofa</th>\n",
       "      <th>Wardrobe</th>\n",
       "      <th>Refrigerator</th>\n",
       "      <th>bhk</th>\n",
       "    </tr>\n",
       "  </thead>\n",
       "  <tbody>\n",
       "    <tr>\n",
       "      <th>0</th>\n",
       "      <td>Banglore</td>\n",
       "      <td>30000000</td>\n",
       "      <td>3340.0</td>\n",
       "      <td>JP Nagar Phase 1</td>\n",
       "      <td>4</td>\n",
       "      <td>0</td>\n",
       "      <td>1</td>\n",
       "      <td>1</td>\n",
       "      <td>1</td>\n",
       "      <td>1</td>\n",
       "      <td>...</td>\n",
       "      <td>0</td>\n",
       "      <td>0</td>\n",
       "      <td>0</td>\n",
       "      <td>0</td>\n",
       "      <td>0</td>\n",
       "      <td>0</td>\n",
       "      <td>0</td>\n",
       "      <td>0</td>\n",
       "      <td>0</td>\n",
       "      <td>4</td>\n",
       "    </tr>\n",
       "    <tr>\n",
       "      <th>1</th>\n",
       "      <td>Banglore</td>\n",
       "      <td>7888000</td>\n",
       "      <td>1045.0</td>\n",
       "      <td>Dasarahalli on Tumkur Road</td>\n",
       "      <td>2</td>\n",
       "      <td>0</td>\n",
       "      <td>0</td>\n",
       "      <td>1</td>\n",
       "      <td>1</td>\n",
       "      <td>1</td>\n",
       "      <td>...</td>\n",
       "      <td>0</td>\n",
       "      <td>1</td>\n",
       "      <td>0</td>\n",
       "      <td>0</td>\n",
       "      <td>0</td>\n",
       "      <td>0</td>\n",
       "      <td>0</td>\n",
       "      <td>0</td>\n",
       "      <td>0</td>\n",
       "      <td>2</td>\n",
       "    </tr>\n",
       "    <tr>\n",
       "      <th>2</th>\n",
       "      <td>Banglore</td>\n",
       "      <td>4866000</td>\n",
       "      <td>1179.0</td>\n",
       "      <td>Kannur on Thanisandra Main Road</td>\n",
       "      <td>2</td>\n",
       "      <td>0</td>\n",
       "      <td>0</td>\n",
       "      <td>1</td>\n",
       "      <td>1</td>\n",
       "      <td>1</td>\n",
       "      <td>...</td>\n",
       "      <td>0</td>\n",
       "      <td>0</td>\n",
       "      <td>0</td>\n",
       "      <td>0</td>\n",
       "      <td>0</td>\n",
       "      <td>0</td>\n",
       "      <td>0</td>\n",
       "      <td>0</td>\n",
       "      <td>0</td>\n",
       "      <td>2</td>\n",
       "    </tr>\n",
       "    <tr>\n",
       "      <th>3</th>\n",
       "      <td>Banglore</td>\n",
       "      <td>8358000</td>\n",
       "      <td>1675.0</td>\n",
       "      <td>Doddanekundi</td>\n",
       "      <td>3</td>\n",
       "      <td>0</td>\n",
       "      <td>0</td>\n",
       "      <td>0</td>\n",
       "      <td>0</td>\n",
       "      <td>0</td>\n",
       "      <td>...</td>\n",
       "      <td>0</td>\n",
       "      <td>0</td>\n",
       "      <td>0</td>\n",
       "      <td>0</td>\n",
       "      <td>0</td>\n",
       "      <td>0</td>\n",
       "      <td>0</td>\n",
       "      <td>0</td>\n",
       "      <td>0</td>\n",
       "      <td>3</td>\n",
       "    </tr>\n",
       "    <tr>\n",
       "      <th>4</th>\n",
       "      <td>Banglore</td>\n",
       "      <td>6845000</td>\n",
       "      <td>1670.0</td>\n",
       "      <td>Kengeri</td>\n",
       "      <td>3</td>\n",
       "      <td>0</td>\n",
       "      <td>1</td>\n",
       "      <td>1</td>\n",
       "      <td>1</td>\n",
       "      <td>1</td>\n",
       "      <td>...</td>\n",
       "      <td>0</td>\n",
       "      <td>0</td>\n",
       "      <td>0</td>\n",
       "      <td>0</td>\n",
       "      <td>0</td>\n",
       "      <td>0</td>\n",
       "      <td>0</td>\n",
       "      <td>0</td>\n",
       "      <td>0</td>\n",
       "      <td>3</td>\n",
       "    </tr>\n",
       "  </tbody>\n",
       "</table>\n",
       "<p>5 rows × 42 columns</p>\n",
       "</div>"
      ],
      "text/plain": [
       "       City     Price    Area                         Location  \\\n",
       "0  Banglore  30000000  3340.0                 JP Nagar Phase 1   \n",
       "1  Banglore   7888000  1045.0       Dasarahalli on Tumkur Road   \n",
       "2  Banglore   4866000  1179.0  Kannur on Thanisandra Main Road   \n",
       "3  Banglore   8358000  1675.0                     Doddanekundi   \n",
       "4  Banglore   6845000  1670.0                          Kengeri   \n",
       "\n",
       "   No. of Bedrooms  Resale  MaintenanceStaff  Gymnasium  SwimmingPool  \\\n",
       "0                4       0                 1          1             1   \n",
       "1                2       0                 0          1             1   \n",
       "2                2       0                 0          1             1   \n",
       "3                3       0                 0          0             0   \n",
       "4                3       0                 1          1             1   \n",
       "\n",
       "   LandscapedGardens  ...  BED  VaastuCompliant  Microwave  GolfCourse  TV  \\\n",
       "0                  1  ...    0                0          0           0   0   \n",
       "1                  1  ...    0                1          0           0   0   \n",
       "2                  1  ...    0                0          0           0   0   \n",
       "3                  0  ...    0                0          0           0   0   \n",
       "4                  1  ...    0                0          0           0   0   \n",
       "\n",
       "   DiningTable  Sofa  Wardrobe  Refrigerator  bhk  \n",
       "0            0     0         0             0    4  \n",
       "1            0     0         0             0    2  \n",
       "2            0     0         0             0    2  \n",
       "3            0     0         0             0    3  \n",
       "4            0     0         0             0    3  \n",
       "\n",
       "[5 rows x 42 columns]"
      ]
     },
     "execution_count": 61,
     "metadata": {},
     "output_type": "execute_result"
    }
   ],
   "source": [
    "data.Area = data.Area.astype(np.float64)\n",
    "data = data[data.Area.notnull()]\n",
    "data.head()"
   ]
  },
  {
   "cell_type": "code",
   "execution_count": 62,
   "id": "d86ce9c2",
   "metadata": {},
   "outputs": [],
   "source": [
    "#create new column price_sqft that contain price per sqft\n",
    "data['price_sqft'] = data.Price*100000/data.Area"
   ]
  },
  {
   "cell_type": "code",
   "execution_count": 63,
   "id": "320633f1",
   "metadata": {},
   "outputs": [],
   "source": [
    "#remove outlier using standard deviation\n",
    "upper_limit = data.price_sqft.mean() + data.price_sqft.std()\n",
    "lower_limit = data.price_sqft.mean() - data.price_sqft.std()\n",
    "data = data[data.price_sqft<upper_limit] \n",
    "data = data[data.price_sqft > lower_limit]"
   ]
  },
  {
   "cell_type": "code",
   "execution_count": 64,
   "id": "432fe756",
   "metadata": {},
   "outputs": [],
   "source": [
    "#remove 2BHK house that price per sqft is less than the mean of 1bhk house price\n",
    "def remove_bhk_outliers(data):\n",
    "    exclude_indices = np.array([])\n",
    "    for location, location_df in data.groupby('Location'):\n",
    "        bhk_stats = {}\n",
    "        for bhk, bhk_df in location_df.groupby('bhk'):\n",
    "            bhk_stats[bhk] = {\n",
    "                'mean': np.mean(bhk_df.price_sqft),\n",
    "                'std': np.std(bhk_df.price_sqft),\n",
    "                'count': bhk_df.shape[0]\n",
    "            }\n",
    "        for bhk, bhk_df in location_df.groupby('bhk'):\n",
    "            stats = bhk_stats.get(bhk-1)# enter the data for number of bhk choosing\n",
    "            if stats and stats['count']>5:\n",
    "                exclude_indices = np.append(exclude_indices, bhk_df[bhk_df.price_sqft<(stats['mean'])].index.values)\n",
    "    return data.drop(exclude_indices,axis='index')\n",
    "data = remove_bhk_outliers(data)"
   ]
  },
  {
   "cell_type": "code",
   "execution_count": 65,
   "id": "964aa0de",
   "metadata": {},
   "outputs": [],
   "source": [
    "data = data.drop('price_sqft',axis=1)"
   ]
  },
  {
   "cell_type": "code",
   "execution_count": 66,
   "id": "32436c07",
   "metadata": {},
   "outputs": [
    {
     "data": {
      "text/html": [
       "<div>\n",
       "<style scoped>\n",
       "    .dataframe tbody tr th:only-of-type {\n",
       "        vertical-align: middle;\n",
       "    }\n",
       "\n",
       "    .dataframe tbody tr th {\n",
       "        vertical-align: top;\n",
       "    }\n",
       "\n",
       "    .dataframe thead th {\n",
       "        text-align: right;\n",
       "    }\n",
       "</style>\n",
       "<table border=\"1\" class=\"dataframe\">\n",
       "  <thead>\n",
       "    <tr style=\"text-align: right;\">\n",
       "      <th></th>\n",
       "      <th>5th Phase</th>\n",
       "      <th>Abbigere</th>\n",
       "      <th>Adambakkam</th>\n",
       "      <th>Adugodi</th>\n",
       "      <th>Adyar</th>\n",
       "      <th>Alipore</th>\n",
       "      <th>Alwarpet</th>\n",
       "      <th>Ambattur</th>\n",
       "      <th>Anagalapura Near Hennur Main Road</th>\n",
       "      <th>Anekal City</th>\n",
       "      <th>...</th>\n",
       "      <th>West Tambaram</th>\n",
       "      <th>Whitefield Hope Farm Junction</th>\n",
       "      <th>Yelahanka</th>\n",
       "      <th>Yeshwantpur</th>\n",
       "      <th>birati</th>\n",
       "      <th>kalikapur</th>\n",
       "      <th>other</th>\n",
       "      <th>sarjapura attibele road</th>\n",
       "      <th>south dum dum</th>\n",
       "      <th>tambaram west</th>\n",
       "    </tr>\n",
       "  </thead>\n",
       "  <tbody>\n",
       "    <tr>\n",
       "      <th>0</th>\n",
       "      <td>0</td>\n",
       "      <td>0</td>\n",
       "      <td>0</td>\n",
       "      <td>0</td>\n",
       "      <td>0</td>\n",
       "      <td>0</td>\n",
       "      <td>0</td>\n",
       "      <td>0</td>\n",
       "      <td>0</td>\n",
       "      <td>0</td>\n",
       "      <td>...</td>\n",
       "      <td>0</td>\n",
       "      <td>0</td>\n",
       "      <td>0</td>\n",
       "      <td>0</td>\n",
       "      <td>0</td>\n",
       "      <td>0</td>\n",
       "      <td>0</td>\n",
       "      <td>0</td>\n",
       "      <td>0</td>\n",
       "      <td>0</td>\n",
       "    </tr>\n",
       "    <tr>\n",
       "      <th>1</th>\n",
       "      <td>0</td>\n",
       "      <td>0</td>\n",
       "      <td>0</td>\n",
       "      <td>0</td>\n",
       "      <td>0</td>\n",
       "      <td>0</td>\n",
       "      <td>0</td>\n",
       "      <td>0</td>\n",
       "      <td>0</td>\n",
       "      <td>0</td>\n",
       "      <td>...</td>\n",
       "      <td>0</td>\n",
       "      <td>0</td>\n",
       "      <td>0</td>\n",
       "      <td>0</td>\n",
       "      <td>0</td>\n",
       "      <td>0</td>\n",
       "      <td>0</td>\n",
       "      <td>0</td>\n",
       "      <td>0</td>\n",
       "      <td>0</td>\n",
       "    </tr>\n",
       "    <tr>\n",
       "      <th>2</th>\n",
       "      <td>0</td>\n",
       "      <td>0</td>\n",
       "      <td>0</td>\n",
       "      <td>0</td>\n",
       "      <td>0</td>\n",
       "      <td>0</td>\n",
       "      <td>0</td>\n",
       "      <td>0</td>\n",
       "      <td>0</td>\n",
       "      <td>0</td>\n",
       "      <td>...</td>\n",
       "      <td>0</td>\n",
       "      <td>0</td>\n",
       "      <td>0</td>\n",
       "      <td>0</td>\n",
       "      <td>0</td>\n",
       "      <td>0</td>\n",
       "      <td>0</td>\n",
       "      <td>0</td>\n",
       "      <td>0</td>\n",
       "      <td>0</td>\n",
       "    </tr>\n",
       "    <tr>\n",
       "      <th>3</th>\n",
       "      <td>0</td>\n",
       "      <td>0</td>\n",
       "      <td>0</td>\n",
       "      <td>0</td>\n",
       "      <td>0</td>\n",
       "      <td>0</td>\n",
       "      <td>0</td>\n",
       "      <td>0</td>\n",
       "      <td>0</td>\n",
       "      <td>0</td>\n",
       "      <td>...</td>\n",
       "      <td>0</td>\n",
       "      <td>0</td>\n",
       "      <td>0</td>\n",
       "      <td>0</td>\n",
       "      <td>0</td>\n",
       "      <td>0</td>\n",
       "      <td>0</td>\n",
       "      <td>0</td>\n",
       "      <td>0</td>\n",
       "      <td>0</td>\n",
       "    </tr>\n",
       "    <tr>\n",
       "      <th>5</th>\n",
       "      <td>0</td>\n",
       "      <td>0</td>\n",
       "      <td>0</td>\n",
       "      <td>0</td>\n",
       "      <td>0</td>\n",
       "      <td>0</td>\n",
       "      <td>0</td>\n",
       "      <td>0</td>\n",
       "      <td>0</td>\n",
       "      <td>0</td>\n",
       "      <td>...</td>\n",
       "      <td>0</td>\n",
       "      <td>0</td>\n",
       "      <td>0</td>\n",
       "      <td>0</td>\n",
       "      <td>0</td>\n",
       "      <td>0</td>\n",
       "      <td>0</td>\n",
       "      <td>0</td>\n",
       "      <td>0</td>\n",
       "      <td>0</td>\n",
       "    </tr>\n",
       "  </tbody>\n",
       "</table>\n",
       "<p>5 rows × 278 columns</p>\n",
       "</div>"
      ],
      "text/plain": [
       "   5th Phase  Abbigere  Adambakkam  Adugodi  Adyar  Alipore  Alwarpet  \\\n",
       "0          0         0           0        0      0        0         0   \n",
       "1          0         0           0        0      0        0         0   \n",
       "2          0         0           0        0      0        0         0   \n",
       "3          0         0           0        0      0        0         0   \n",
       "5          0         0           0        0      0        0         0   \n",
       "\n",
       "   Ambattur  Anagalapura Near Hennur Main Road  Anekal City  ...  \\\n",
       "0         0                                  0            0  ...   \n",
       "1         0                                  0            0  ...   \n",
       "2         0                                  0            0  ...   \n",
       "3         0                                  0            0  ...   \n",
       "5         0                                  0            0  ...   \n",
       "\n",
       "   West Tambaram  Whitefield Hope Farm Junction  Yelahanka  Yeshwantpur  \\\n",
       "0              0                              0          0            0   \n",
       "1              0                              0          0            0   \n",
       "2              0                              0          0            0   \n",
       "3              0                              0          0            0   \n",
       "5              0                              0          0            0   \n",
       "\n",
       "   birati  kalikapur  other  sarjapura attibele road  south dum dum  \\\n",
       "0       0          0      0                        0              0   \n",
       "1       0          0      0                        0              0   \n",
       "2       0          0      0                        0              0   \n",
       "3       0          0      0                        0              0   \n",
       "5       0          0      0                        0              0   \n",
       "\n",
       "   tambaram west  \n",
       "0              0  \n",
       "1              0  \n",
       "2              0  \n",
       "3              0  \n",
       "5              0  \n",
       "\n",
       "[5 rows x 278 columns]"
      ]
     },
     "execution_count": 66,
     "metadata": {},
     "output_type": "execute_result"
    }
   ],
   "source": [
    "#apply one hot encoding in location column\n",
    "dummies = pd.get_dummies(data.Location)\n",
    "location_cat = pd.get_dummies(data.Location)\n",
    "dummies.head()"
   ]
  },
  {
   "cell_type": "code",
   "execution_count": 67,
   "id": "bc72fe6b",
   "metadata": {
    "scrolled": true
   },
   "outputs": [
    {
     "data": {
      "text/html": [
       "<div>\n",
       "<style scoped>\n",
       "    .dataframe tbody tr th:only-of-type {\n",
       "        vertical-align: middle;\n",
       "    }\n",
       "\n",
       "    .dataframe tbody tr th {\n",
       "        vertical-align: top;\n",
       "    }\n",
       "\n",
       "    .dataframe thead th {\n",
       "        text-align: right;\n",
       "    }\n",
       "</style>\n",
       "<table border=\"1\" class=\"dataframe\">\n",
       "  <thead>\n",
       "    <tr style=\"text-align: right;\">\n",
       "      <th></th>\n",
       "      <th>City</th>\n",
       "      <th>Price</th>\n",
       "      <th>Area</th>\n",
       "      <th>Location</th>\n",
       "      <th>No. of Bedrooms</th>\n",
       "      <th>Resale</th>\n",
       "      <th>MaintenanceStaff</th>\n",
       "      <th>Gymnasium</th>\n",
       "      <th>SwimmingPool</th>\n",
       "      <th>LandscapedGardens</th>\n",
       "      <th>...</th>\n",
       "      <th>West Tambaram</th>\n",
       "      <th>Whitefield Hope Farm Junction</th>\n",
       "      <th>Yelahanka</th>\n",
       "      <th>Yeshwantpur</th>\n",
       "      <th>birati</th>\n",
       "      <th>kalikapur</th>\n",
       "      <th>other</th>\n",
       "      <th>sarjapura attibele road</th>\n",
       "      <th>south dum dum</th>\n",
       "      <th>tambaram west</th>\n",
       "    </tr>\n",
       "  </thead>\n",
       "  <tbody>\n",
       "    <tr>\n",
       "      <th>0</th>\n",
       "      <td>Banglore</td>\n",
       "      <td>30000000</td>\n",
       "      <td>3340.0</td>\n",
       "      <td>JP Nagar Phase 1</td>\n",
       "      <td>4</td>\n",
       "      <td>0</td>\n",
       "      <td>1</td>\n",
       "      <td>1</td>\n",
       "      <td>1</td>\n",
       "      <td>1</td>\n",
       "      <td>...</td>\n",
       "      <td>0</td>\n",
       "      <td>0</td>\n",
       "      <td>0</td>\n",
       "      <td>0</td>\n",
       "      <td>0</td>\n",
       "      <td>0</td>\n",
       "      <td>0</td>\n",
       "      <td>0</td>\n",
       "      <td>0</td>\n",
       "      <td>0</td>\n",
       "    </tr>\n",
       "    <tr>\n",
       "      <th>1</th>\n",
       "      <td>Banglore</td>\n",
       "      <td>7888000</td>\n",
       "      <td>1045.0</td>\n",
       "      <td>Dasarahalli on Tumkur Road</td>\n",
       "      <td>2</td>\n",
       "      <td>0</td>\n",
       "      <td>0</td>\n",
       "      <td>1</td>\n",
       "      <td>1</td>\n",
       "      <td>1</td>\n",
       "      <td>...</td>\n",
       "      <td>0</td>\n",
       "      <td>0</td>\n",
       "      <td>0</td>\n",
       "      <td>0</td>\n",
       "      <td>0</td>\n",
       "      <td>0</td>\n",
       "      <td>0</td>\n",
       "      <td>0</td>\n",
       "      <td>0</td>\n",
       "      <td>0</td>\n",
       "    </tr>\n",
       "    <tr>\n",
       "      <th>2</th>\n",
       "      <td>Banglore</td>\n",
       "      <td>4866000</td>\n",
       "      <td>1179.0</td>\n",
       "      <td>Kannur on Thanisandra Main Road</td>\n",
       "      <td>2</td>\n",
       "      <td>0</td>\n",
       "      <td>0</td>\n",
       "      <td>1</td>\n",
       "      <td>1</td>\n",
       "      <td>1</td>\n",
       "      <td>...</td>\n",
       "      <td>0</td>\n",
       "      <td>0</td>\n",
       "      <td>0</td>\n",
       "      <td>0</td>\n",
       "      <td>0</td>\n",
       "      <td>0</td>\n",
       "      <td>0</td>\n",
       "      <td>0</td>\n",
       "      <td>0</td>\n",
       "      <td>0</td>\n",
       "    </tr>\n",
       "    <tr>\n",
       "      <th>3</th>\n",
       "      <td>Banglore</td>\n",
       "      <td>8358000</td>\n",
       "      <td>1675.0</td>\n",
       "      <td>Doddanekundi</td>\n",
       "      <td>3</td>\n",
       "      <td>0</td>\n",
       "      <td>0</td>\n",
       "      <td>0</td>\n",
       "      <td>0</td>\n",
       "      <td>0</td>\n",
       "      <td>...</td>\n",
       "      <td>0</td>\n",
       "      <td>0</td>\n",
       "      <td>0</td>\n",
       "      <td>0</td>\n",
       "      <td>0</td>\n",
       "      <td>0</td>\n",
       "      <td>0</td>\n",
       "      <td>0</td>\n",
       "      <td>0</td>\n",
       "      <td>0</td>\n",
       "    </tr>\n",
       "    <tr>\n",
       "      <th>5</th>\n",
       "      <td>Banglore</td>\n",
       "      <td>6797000</td>\n",
       "      <td>1220.0</td>\n",
       "      <td>Horamavu</td>\n",
       "      <td>2</td>\n",
       "      <td>0</td>\n",
       "      <td>0</td>\n",
       "      <td>1</td>\n",
       "      <td>1</td>\n",
       "      <td>1</td>\n",
       "      <td>...</td>\n",
       "      <td>0</td>\n",
       "      <td>0</td>\n",
       "      <td>0</td>\n",
       "      <td>0</td>\n",
       "      <td>0</td>\n",
       "      <td>0</td>\n",
       "      <td>0</td>\n",
       "      <td>0</td>\n",
       "      <td>0</td>\n",
       "      <td>0</td>\n",
       "    </tr>\n",
       "  </tbody>\n",
       "</table>\n",
       "<p>5 rows × 319 columns</p>\n",
       "</div>"
      ],
      "text/plain": [
       "       City     Price    Area                         Location  \\\n",
       "0  Banglore  30000000  3340.0                 JP Nagar Phase 1   \n",
       "1  Banglore   7888000  1045.0       Dasarahalli on Tumkur Road   \n",
       "2  Banglore   4866000  1179.0  Kannur on Thanisandra Main Road   \n",
       "3  Banglore   8358000  1675.0                     Doddanekundi   \n",
       "5  Banglore   6797000  1220.0                         Horamavu   \n",
       "\n",
       "   No. of Bedrooms  Resale  MaintenanceStaff  Gymnasium  SwimmingPool  \\\n",
       "0                4       0                 1          1             1   \n",
       "1                2       0                 0          1             1   \n",
       "2                2       0                 0          1             1   \n",
       "3                3       0                 0          0             0   \n",
       "5                2       0                 0          1             1   \n",
       "\n",
       "   LandscapedGardens  ...  West Tambaram  Whitefield Hope Farm Junction  \\\n",
       "0                  1  ...              0                              0   \n",
       "1                  1  ...              0                              0   \n",
       "2                  1  ...              0                              0   \n",
       "3                  0  ...              0                              0   \n",
       "5                  1  ...              0                              0   \n",
       "\n",
       "   Yelahanka  Yeshwantpur  birati  kalikapur  other  sarjapura attibele road  \\\n",
       "0          0            0       0          0      0                        0   \n",
       "1          0            0       0          0      0                        0   \n",
       "2          0            0       0          0      0                        0   \n",
       "3          0            0       0          0      0                        0   \n",
       "5          0            0       0          0      0                        0   \n",
       "\n",
       "   south dum dum  tambaram west  \n",
       "0              0              0  \n",
       "1              0              0  \n",
       "2              0              0  \n",
       "3              0              0  \n",
       "5              0              0  \n",
       "\n",
       "[5 rows x 319 columns]"
      ]
     },
     "execution_count": 67,
     "metadata": {},
     "output_type": "execute_result"
    }
   ],
   "source": [
    "data = pd.concat([data,dummies.drop('5th Phase',axis='columns')],axis='columns')\n",
    "data.head()"
   ]
  },
  {
   "cell_type": "code",
   "execution_count": 68,
   "id": "abc6665d",
   "metadata": {},
   "outputs": [],
   "source": [
    "data=data[['City','Price','Area','Location','No. of Bedrooms','LiftAvailable','Resale']]\n",
    "data.rename(columns = {'No. of Bedrooms':'NoofBedrooms'}, inplace = True)"
   ]
  },
  {
   "cell_type": "code",
   "execution_count": 69,
   "id": "bc800077",
   "metadata": {
    "scrolled": true
   },
   "outputs": [
    {
     "data": {
      "text/html": [
       "<div>\n",
       "<style scoped>\n",
       "    .dataframe tbody tr th:only-of-type {\n",
       "        vertical-align: middle;\n",
       "    }\n",
       "\n",
       "    .dataframe tbody tr th {\n",
       "        vertical-align: top;\n",
       "    }\n",
       "\n",
       "    .dataframe thead th {\n",
       "        text-align: right;\n",
       "    }\n",
       "</style>\n",
       "<table border=\"1\" class=\"dataframe\">\n",
       "  <thead>\n",
       "    <tr style=\"text-align: right;\">\n",
       "      <th></th>\n",
       "      <th>Price</th>\n",
       "      <th>Area</th>\n",
       "      <th>NoofBedrooms</th>\n",
       "      <th>LiftAvailable</th>\n",
       "      <th>Resale</th>\n",
       "    </tr>\n",
       "  </thead>\n",
       "  <tbody>\n",
       "    <tr>\n",
       "      <th>0</th>\n",
       "      <td>30000000</td>\n",
       "      <td>3340.0</td>\n",
       "      <td>4</td>\n",
       "      <td>1</td>\n",
       "      <td>0</td>\n",
       "    </tr>\n",
       "    <tr>\n",
       "      <th>1</th>\n",
       "      <td>7888000</td>\n",
       "      <td>1045.0</td>\n",
       "      <td>2</td>\n",
       "      <td>1</td>\n",
       "      <td>0</td>\n",
       "    </tr>\n",
       "    <tr>\n",
       "      <th>2</th>\n",
       "      <td>4866000</td>\n",
       "      <td>1179.0</td>\n",
       "      <td>2</td>\n",
       "      <td>1</td>\n",
       "      <td>0</td>\n",
       "    </tr>\n",
       "    <tr>\n",
       "      <th>3</th>\n",
       "      <td>8358000</td>\n",
       "      <td>1675.0</td>\n",
       "      <td>3</td>\n",
       "      <td>1</td>\n",
       "      <td>0</td>\n",
       "    </tr>\n",
       "    <tr>\n",
       "      <th>5</th>\n",
       "      <td>6797000</td>\n",
       "      <td>1220.0</td>\n",
       "      <td>2</td>\n",
       "      <td>1</td>\n",
       "      <td>0</td>\n",
       "    </tr>\n",
       "  </tbody>\n",
       "</table>\n",
       "</div>"
      ],
      "text/plain": [
       "      Price    Area  NoofBedrooms  LiftAvailable  Resale\n",
       "0  30000000  3340.0             4              1       0\n",
       "1   7888000  1045.0             2              1       0\n",
       "2   4866000  1179.0             2              1       0\n",
       "3   8358000  1675.0             3              1       0\n",
       "5   6797000  1220.0             2              1       0"
      ]
     },
     "execution_count": 69,
     "metadata": {},
     "output_type": "execute_result"
    }
   ],
   "source": [
    "data = data.drop(['Location','City'] , axis=1)\n",
    "data.head()"
   ]
  },
  {
   "cell_type": "code",
   "execution_count": 70,
   "id": "d356d018",
   "metadata": {},
   "outputs": [],
   "source": [
    "#split data into dependent feature & independent feature\n",
    "X = data.drop('Price',axis=1)"
   ]
  },
  {
   "cell_type": "code",
   "execution_count": 71,
   "id": "8b97be72",
   "metadata": {},
   "outputs": [],
   "source": [
    "y=data['Price']"
   ]
  },
  {
   "cell_type": "code",
   "execution_count": 72,
   "id": "27485fd4",
   "metadata": {},
   "outputs": [
    {
     "data": {
      "text/plain": [
       "array([0.55750911, 0.50840247, 0.52767167, 0.58828168, 0.54681624])"
      ]
     },
     "execution_count": 72,
     "metadata": {},
     "output_type": "execute_result"
    }
   ],
   "source": [
    "#split data into train-test split\n",
    "from sklearn.linear_model import LinearRegression,Lasso, Ridge\n",
    "from sklearn.model_selection import ShuffleSplit\n",
    "from sklearn.model_selection import cross_val_score\n",
    "cv = ShuffleSplit(n_splits=5, test_size=0.2, random_state=0)\n",
    "regressor = cross_val_score(LinearRegression(), X, y, cv=cv)\n",
    "regressor"
   ]
  },
  {
   "cell_type": "code",
   "execution_count": 73,
   "id": "8d6389e7",
   "metadata": {},
   "outputs": [
    {
     "data": {
      "text/plain": [
       "0.5457362345777541"
      ]
     },
     "execution_count": 73,
     "metadata": {},
     "output_type": "execute_result"
    }
   ],
   "source": [
    "np.average(regressor)"
   ]
  },
  {
   "cell_type": "code",
   "execution_count": 74,
   "id": "384b8de6",
   "metadata": {},
   "outputs": [],
   "source": [
    "from sklearn.model_selection import train_test_split\n",
    "x_train , x_test , y_train , y_test = train_test_split(X,y,test_size=0.3)"
   ]
  },
  {
   "cell_type": "code",
   "execution_count": 75,
   "id": "c1e46646",
   "metadata": {},
   "outputs": [
    {
     "data": {
      "text/plain": [
       "LinearRegression()"
      ]
     },
     "execution_count": 75,
     "metadata": {},
     "output_type": "execute_result"
    }
   ],
   "source": [
    "model = LinearRegression()\n",
    "model.fit(x_train , y_train)"
   ]
  },
  {
   "cell_type": "code",
   "execution_count": 76,
   "id": "170d5628",
   "metadata": {},
   "outputs": [],
   "source": [
    "y_pred = model.predict(x_test)"
   ]
  },
  {
   "cell_type": "code",
   "execution_count": 77,
   "id": "c26e1e07",
   "metadata": {},
   "outputs": [
    {
     "name": "stdout",
     "output_type": "stream",
     "text": [
      "3242948.7997632897\n",
      "30372731457523.867\n",
      "5511146.111066542\n"
     ]
    }
   ],
   "source": [
    "from sklearn import metrics\n",
    "print(metrics.mean_absolute_error(y_test,y_pred))\n",
    "print(metrics.mean_squared_error(y_test,y_pred))\n",
    "print(np.sqrt(metrics.mean_squared_error(y_test,y_pred)))"
   ]
  },
  {
   "cell_type": "code",
   "execution_count": 78,
   "id": "5d502dca",
   "metadata": {},
   "outputs": [
    {
     "data": {
      "text/plain": [
       "0.5574552395372757"
      ]
     },
     "execution_count": 78,
     "metadata": {},
     "output_type": "execute_result"
    }
   ],
   "source": [
    "ridge_reg = Ridge(alpha = 0.1)\n",
    "ridge_reg.fit(x_train, y_train)\n",
    "y_pred1 = ridge_reg.predict(x_test)\n",
    "ridge_reg.score(x_test, y_test)"
   ]
  },
  {
   "cell_type": "code",
   "execution_count": 79,
   "id": "fafc0bd3",
   "metadata": {},
   "outputs": [
    {
     "name": "stdout",
     "output_type": "stream",
     "text": [
      "3242947.138987178\n",
      "30372723884034.42\n",
      "5511145.423959925\n"
     ]
    }
   ],
   "source": [
    "print(metrics.mean_absolute_error(y_test,y_pred1))\n",
    "print(metrics.mean_squared_error(y_test,y_pred1))\n",
    "print(np.sqrt(metrics.mean_squared_error(y_test,y_pred1)))"
   ]
  },
  {
   "cell_type": "code",
   "execution_count": 80,
   "id": "76db00d7",
   "metadata": {},
   "outputs": [
    {
     "data": {
      "text/plain": [
       "0.5574551314101334"
      ]
     },
     "execution_count": 80,
     "metadata": {},
     "output_type": "execute_result"
    }
   ],
   "source": [
    "lasso_reg = Lasso(alpha = 0.1)\n",
    "lasso_reg.fit(x_train, y_train)\n",
    "lasso_reg.score(x_test, y_test)"
   ]
  },
  {
   "cell_type": "code",
   "execution_count": 81,
   "id": "bc4a98c2",
   "metadata": {},
   "outputs": [
    {
     "data": {
      "text/plain": [
       "0.605439879283481"
      ]
     },
     "execution_count": 81,
     "metadata": {},
     "output_type": "execute_result"
    }
   ],
   "source": [
    "from sklearn.tree import DecisionTreeRegressor\n",
    "dt_reg = DecisionTreeRegressor()\n",
    "dt_reg.fit(x_train, y_train)\n",
    "dt_reg.score(x_test, y_test)"
   ]
  },
  {
   "cell_type": "code",
   "execution_count": 82,
   "id": "d3e2aa77",
   "metadata": {},
   "outputs": [
    {
     "data": {
      "text/plain": [
       "0.6846963553252192"
      ]
     },
     "execution_count": 82,
     "metadata": {},
     "output_type": "execute_result"
    }
   ],
   "source": [
    "from sklearn.ensemble import RandomForestRegressor\n",
    "regressor = RandomForestRegressor(n_estimators=100)\n",
    "regressor.fit(x_train,y_train)\n",
    "regressor.score(x_test, y_test)"
   ]
  },
  {
   "cell_type": "code",
   "execution_count": 83,
   "id": "bed510d1",
   "metadata": {},
   "outputs": [],
   "source": [
    "from sklearn.ensemble import AdaBoostRegressor\n",
    "from sklearn.ensemble import GradientBoostingRegressor"
   ]
  },
  {
   "cell_type": "code",
   "execution_count": 84,
   "id": "8deb7f6a",
   "metadata": {},
   "outputs": [
    {
     "data": {
      "text/plain": [
       "0.638853814696115"
      ]
     },
     "execution_count": 84,
     "metadata": {},
     "output_type": "execute_result"
    }
   ],
   "source": [
    "ab_reg = AdaBoostRegressor(loss = \"linear\")\n",
    "ab_reg.fit(x_train, y_train)\n",
    "ab_reg.score(x_test, y_test)"
   ]
  },
  {
   "cell_type": "code",
   "execution_count": 85,
   "id": "6525679b",
   "metadata": {},
   "outputs": [
    {
     "data": {
      "text/plain": [
       "0.7021692801768982"
      ]
     },
     "execution_count": 85,
     "metadata": {},
     "output_type": "execute_result"
    }
   ],
   "source": [
    "gb_reg = GradientBoostingRegressor(max_depth = 7, max_features = 4, n_estimators = 35)\n",
    "gb_reg.fit(x_train, y_train)\n",
    "gb_reg.score(x_test, y_test)"
   ]
  },
  {
   "cell_type": "code",
   "execution_count": 90,
   "id": "2e76a915",
   "metadata": {},
   "outputs": [],
   "source": [
    "pred= model.predict([[3340,4,1,0]])"
   ]
  },
  {
   "cell_type": "code",
   "execution_count": 96,
   "id": "5c6bb0b5",
   "metadata": {},
   "outputs": [
    {
     "name": "stdout",
     "output_type": "stream",
     "text": [
      "[27370644.12]\n"
     ]
    }
   ],
   "source": [
    "print(np.round_(pred,decimals=2))"
   ]
  },
  {
   "cell_type": "code",
   "execution_count": 88,
   "id": "ef78d3bf",
   "metadata": {},
   "outputs": [],
   "source": [
    "#save the model\n",
    "import pickle\n",
    "with open('model.pkl', 'wb') as fh:\n",
    "   pickle.dump(gb_reg, fh)"
   ]
  },
  {
   "cell_type": "code",
   "execution_count": null,
   "id": "c6f20301",
   "metadata": {},
   "outputs": [],
   "source": []
  },
  {
   "cell_type": "code",
   "execution_count": null,
   "id": "048f11d7",
   "metadata": {},
   "outputs": [],
   "source": []
  },
  {
   "cell_type": "code",
   "execution_count": null,
   "id": "43dcca9e",
   "metadata": {},
   "outputs": [],
   "source": []
  },
  {
   "cell_type": "code",
   "execution_count": null,
   "id": "135c8399",
   "metadata": {},
   "outputs": [],
   "source": []
  },
  {
   "cell_type": "code",
   "execution_count": null,
   "id": "f82e20a3",
   "metadata": {},
   "outputs": [],
   "source": []
  }
 ],
 "metadata": {
  "kernelspec": {
   "display_name": "Python 3",
   "language": "python",
   "name": "python3"
  },
  "language_info": {
   "codemirror_mode": {
    "name": "ipython",
    "version": 3
   },
   "file_extension": ".py",
   "mimetype": "text/x-python",
   "name": "python",
   "nbconvert_exporter": "python",
   "pygments_lexer": "ipython3",
   "version": "3.8.8"
  },
  "vscode": {
   "interpreter": {
    "hash": "8270a719b5d23f1fe9d03301ca9ce89a08f3d2dd0bf1a5125453cf8b9a1e9b39"
   }
  }
 },
 "nbformat": 4,
 "nbformat_minor": 5
}
